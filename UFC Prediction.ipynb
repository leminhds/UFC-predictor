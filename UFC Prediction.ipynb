{
 "cells": [
  {
   "cell_type": "code",
   "execution_count": 52,
   "metadata": {},
   "outputs": [
    {
     "name": "stdout",
     "output_type": "stream",
     "text": [
      "Requirement already satisfied: matplotlib in /usr/local/lib/python3.6/dist-packages (3.3.3)\n",
      "Requirement already satisfied: pillow>=6.2.0 in /usr/local/lib/python3.6/dist-packages (from matplotlib) (8.1.0)\n",
      "Requirement already satisfied: python-dateutil>=2.1 in /usr/local/lib/python3.6/dist-packages (from matplotlib) (2.8.1)\n",
      "Requirement already satisfied: pyparsing!=2.0.4,!=2.1.2,!=2.1.6,>=2.0.3 in /usr/local/lib/python3.6/dist-packages (from matplotlib) (2.4.7)\n",
      "Requirement already satisfied: kiwisolver>=1.0.1 in /usr/local/lib/python3.6/dist-packages (from matplotlib) (1.3.1)\n",
      "Requirement already satisfied: cycler>=0.10 in /usr/local/lib/python3.6/dist-packages (from matplotlib) (0.10.0)\n",
      "Requirement already satisfied: numpy>=1.15 in /usr/local/lib/python3.6/dist-packages (from matplotlib) (1.19.5)\n",
      "Requirement already satisfied: six in /usr/local/lib/python3.6/dist-packages (from cycler>=0.10->matplotlib) (1.15.0)\n",
      "\u001b[33mWARNING: Running pip as the 'root' user can result in broken permissions and conflicting behaviour with the system package manager. It is recommended to use a virtual environment instead: https://pip.pypa.io/warnings/venv\u001b[0m\n",
      "\u001b[33mWARNING: You are using pip version 21.1.3; however, version 21.2.4 is available.\n",
      "You should consider upgrading via the '/usr/bin/python3 -m pip install --upgrade pip' command.\u001b[0m\n"
     ]
    }
   ],
   "source": [
    "!pip install matplotlib"
   ]
  },
  {
   "cell_type": "code",
   "execution_count": 1,
   "metadata": {},
   "outputs": [],
   "source": [
    "from sklearn.preprocessing import StandardScaler, LabelEncoder\n",
    "from sklearn.model_selection import train_test_split, KFold, RandomizedSearchCV\n",
    "from sklearn.metrics import accuracy_score\n",
    "from xgboost import XGBClassifier\n",
    "import pandas as pd\n",
    "import numpy as np\n",
    "import seaborn as sns\n",
    "import matplotlib.pyplot as plt"
   ]
  },
  {
   "cell_type": "code",
   "execution_count": 2,
   "metadata": {},
   "outputs": [
    {
     "data": {
      "text/plain": [
       "card_name               object\n",
       "f1                      object\n",
       "f1_sig_strike_per      float64\n",
       "f1_sig_strike_total      int64\n",
       "f1_td_attempt            int64\n",
       "f1_td_succeed            int64\n",
       "f2                      object\n",
       "f2_sig_strike_per      float64\n",
       "f2_sig_strike_total      int64\n",
       "f2_td_attempt            int64\n",
       "f2_td_succeed            int64\n",
       "fights_location         object\n",
       "round_format             int64\n",
       "round_fought             int64\n",
       "weight_class            object\n",
       "winner                   int64\n",
       "winning_method          object\n",
       "fight_year               int64\n",
       "SApM_f1                float64\n",
       "SLpM_f1                float64\n",
       "height_f1              float64\n",
       "reach_f1               float64\n",
       "stance_f1               object\n",
       "strAcc_f1              float64\n",
       "strDef_f1              float64\n",
       "subAvg_f1              float64\n",
       "tdAcc_f1               float64\n",
       "tdAvg_f1               float64\n",
       "tdDef_f1               float64\n",
       "weight_f1                int64\n",
       "born_year_f1             int64\n",
       "win_f1                   int64\n",
       "lose_f1                  int64\n",
       "draw_f1                  int64\n",
       "nc_f1                    int64\n",
       "SApM_f2                float64\n",
       "SLpM_f2                float64\n",
       "height_f2              float64\n",
       "reach_f2               float64\n",
       "stance_f2               object\n",
       "strAcc_f2              float64\n",
       "strDef_f2              float64\n",
       "subAvg_f2              float64\n",
       "tdAcc_f2               float64\n",
       "tdAvg_f2               float64\n",
       "tdDef_f2               float64\n",
       "weight_f2                int64\n",
       "born_year_f2             int64\n",
       "win_f2                   int64\n",
       "lose_f2                  int64\n",
       "draw_f2                  int64\n",
       "nc_f2                    int64\n",
       "f1_age_when_fight        int64\n",
       "f2_age_when_fight        int64\n",
       "dtype: object"
      ]
     },
     "execution_count": 2,
     "metadata": {},
     "output_type": "execute_result"
    }
   ],
   "source": [
    "df = pd.read_csv('cleaned_dataset.csv')\n",
    "\n",
    "df.dtypes"
   ]
  },
  {
   "cell_type": "code",
   "execution_count": 3,
   "metadata": {},
   "outputs": [],
   "source": [
    "# remove fight location and card name as it will probably not carry much meaning\n",
    "df = df.drop(['fights_location', 'card_name'], axis=1)\n"
   ]
  },
  {
   "cell_type": "code",
   "execution_count": 4,
   "metadata": {},
   "outputs": [],
   "source": [
    "# encode inputs of object type\n",
    "\n",
    "encoder = LabelEncoder()\n",
    "encoded_1 = df['weight_class']\n",
    "encoded_1 = encoder.fit_transform(encoded_1)\n",
    "\n",
    "encoded_2 = df['stance_f1']\n",
    "encoded_2 = encoder.fit_transform(encoded_2)\n",
    "\n",
    "encoded_3 = df['stance_f2']\n",
    "encoded_3 = encoder.fit_transform(encoded_3)\n"
   ]
  },
  {
   "cell_type": "code",
   "execution_count": 5,
   "metadata": {},
   "outputs": [],
   "source": [
    "encoded_1 = pd.DataFrame(encoded_1, columns=['weight_class'])\n",
    "encoded_2 = pd.DataFrame(encoded_2, columns=['stance_f1'])\n",
    "encoded_3 = pd.DataFrame(encoded_3, columns=['stance_f2'])\n"
   ]
  },
  {
   "cell_type": "code",
   "execution_count": 6,
   "metadata": {},
   "outputs": [],
   "source": [
    "df[['weight_class']] = encoded_1[['weight_class']]\n",
    "df[['stance_f1']] = encoded_2[['stance_f1']]\n",
    "df[['stance_f2']] = encoded_3[['stance_f2']]\n"
   ]
  },
  {
   "cell_type": "code",
   "execution_count": 7,
   "metadata": {},
   "outputs": [],
   "source": [
    "df = pd.concat([df,pd.get_dummies(df['winning_method'], prefix='winning_method')],axis=1)\n",
    "df.drop(['winning_method'], axis=1, inplace=True)"
   ]
  },
  {
   "cell_type": "code",
   "execution_count": 8,
   "metadata": {},
   "outputs": [
    {
     "data": {
      "text/html": [
       "<div>\n",
       "<style scoped>\n",
       "    .dataframe tbody tr th:only-of-type {\n",
       "        vertical-align: middle;\n",
       "    }\n",
       "\n",
       "    .dataframe tbody tr th {\n",
       "        vertical-align: top;\n",
       "    }\n",
       "\n",
       "    .dataframe thead th {\n",
       "        text-align: right;\n",
       "    }\n",
       "</style>\n",
       "<table border=\"1\" class=\"dataframe\">\n",
       "  <thead>\n",
       "    <tr style=\"text-align: right;\">\n",
       "      <th></th>\n",
       "      <th>f1</th>\n",
       "      <th>f1_sig_strike_per</th>\n",
       "      <th>f1_sig_strike_total</th>\n",
       "      <th>f1_td_attempt</th>\n",
       "      <th>f1_td_succeed</th>\n",
       "      <th>f2</th>\n",
       "      <th>f2_sig_strike_per</th>\n",
       "      <th>f2_sig_strike_total</th>\n",
       "      <th>f2_td_attempt</th>\n",
       "      <th>f2_td_succeed</th>\n",
       "      <th>...</th>\n",
       "      <th>f2_age_when_fight</th>\n",
       "      <th>winning_method_CNC</th>\n",
       "      <th>winning_method_DQ</th>\n",
       "      <th>winning_method_KO/TKO</th>\n",
       "      <th>winning_method_M-DEC</th>\n",
       "      <th>winning_method_Other</th>\n",
       "      <th>winning_method_Overturned</th>\n",
       "      <th>winning_method_S-DEC</th>\n",
       "      <th>winning_method_SUB</th>\n",
       "      <th>winning_method_U-DEC</th>\n",
       "    </tr>\n",
       "  </thead>\n",
       "  <tbody>\n",
       "    <tr>\n",
       "      <th>0</th>\n",
       "      <td>Gustavo Lopez</td>\n",
       "      <td>0.60</td>\n",
       "      <td>43</td>\n",
       "      <td>3</td>\n",
       "      <td>2</td>\n",
       "      <td>Anthony Birchak</td>\n",
       "      <td>0.42</td>\n",
       "      <td>40</td>\n",
       "      <td>0</td>\n",
       "      <td>0</td>\n",
       "      <td>...</td>\n",
       "      <td>34</td>\n",
       "      <td>0</td>\n",
       "      <td>0</td>\n",
       "      <td>0</td>\n",
       "      <td>0</td>\n",
       "      <td>0</td>\n",
       "      <td>0</td>\n",
       "      <td>0</td>\n",
       "      <td>1</td>\n",
       "      <td>0</td>\n",
       "    </tr>\n",
       "    <tr>\n",
       "      <th>1</th>\n",
       "      <td>Jason Witt</td>\n",
       "      <td>0.20</td>\n",
       "      <td>5</td>\n",
       "      <td>0</td>\n",
       "      <td>0</td>\n",
       "      <td>Cole Williams</td>\n",
       "      <td>0.64</td>\n",
       "      <td>31</td>\n",
       "      <td>3</td>\n",
       "      <td>2</td>\n",
       "      <td>...</td>\n",
       "      <td>37</td>\n",
       "      <td>0</td>\n",
       "      <td>0</td>\n",
       "      <td>0</td>\n",
       "      <td>0</td>\n",
       "      <td>0</td>\n",
       "      <td>0</td>\n",
       "      <td>0</td>\n",
       "      <td>1</td>\n",
       "      <td>0</td>\n",
       "    </tr>\n",
       "    <tr>\n",
       "      <th>2</th>\n",
       "      <td>Justin Ledet</td>\n",
       "      <td>0.57</td>\n",
       "      <td>38</td>\n",
       "      <td>0</td>\n",
       "      <td>0</td>\n",
       "      <td>Dustin Jacoby</td>\n",
       "      <td>0.32</td>\n",
       "      <td>31</td>\n",
       "      <td>0</td>\n",
       "      <td>0</td>\n",
       "      <td>...</td>\n",
       "      <td>32</td>\n",
       "      <td>0</td>\n",
       "      <td>0</td>\n",
       "      <td>1</td>\n",
       "      <td>0</td>\n",
       "      <td>0</td>\n",
       "      <td>0</td>\n",
       "      <td>0</td>\n",
       "      <td>0</td>\n",
       "      <td>0</td>\n",
       "    </tr>\n",
       "    <tr>\n",
       "      <th>3</th>\n",
       "      <td>Miles Johns</td>\n",
       "      <td>0.45</td>\n",
       "      <td>105</td>\n",
       "      <td>7</td>\n",
       "      <td>0</td>\n",
       "      <td>Kevin Natividad</td>\n",
       "      <td>0.24</td>\n",
       "      <td>137</td>\n",
       "      <td>1</td>\n",
       "      <td>0</td>\n",
       "      <td>...</td>\n",
       "      <td>27</td>\n",
       "      <td>0</td>\n",
       "      <td>0</td>\n",
       "      <td>1</td>\n",
       "      <td>0</td>\n",
       "      <td>0</td>\n",
       "      <td>0</td>\n",
       "      <td>0</td>\n",
       "      <td>0</td>\n",
       "      <td>0</td>\n",
       "    </tr>\n",
       "    <tr>\n",
       "      <th>4</th>\n",
       "      <td>Louis Cosce</td>\n",
       "      <td>0.48</td>\n",
       "      <td>206</td>\n",
       "      <td>9</td>\n",
       "      <td>1</td>\n",
       "      <td>Sasha Palatnikov</td>\n",
       "      <td>0.52</td>\n",
       "      <td>237</td>\n",
       "      <td>1</td>\n",
       "      <td>1</td>\n",
       "      <td>...</td>\n",
       "      <td>31</td>\n",
       "      <td>0</td>\n",
       "      <td>0</td>\n",
       "      <td>1</td>\n",
       "      <td>0</td>\n",
       "      <td>0</td>\n",
       "      <td>0</td>\n",
       "      <td>0</td>\n",
       "      <td>0</td>\n",
       "      <td>0</td>\n",
       "    </tr>\n",
       "  </tbody>\n",
       "</table>\n",
       "<p>5 rows × 60 columns</p>\n",
       "</div>"
      ],
      "text/plain": [
       "              f1  f1_sig_strike_per  f1_sig_strike_total  f1_td_attempt  \\\n",
       "0  Gustavo Lopez               0.60                   43              3   \n",
       "1     Jason Witt               0.20                    5              0   \n",
       "2   Justin Ledet               0.57                   38              0   \n",
       "3    Miles Johns               0.45                  105              7   \n",
       "4    Louis Cosce               0.48                  206              9   \n",
       "\n",
       "   f1_td_succeed                f2  f2_sig_strike_per  f2_sig_strike_total  \\\n",
       "0              2   Anthony Birchak               0.42                   40   \n",
       "1              0     Cole Williams               0.64                   31   \n",
       "2              0     Dustin Jacoby               0.32                   31   \n",
       "3              0   Kevin Natividad               0.24                  137   \n",
       "4              1  Sasha Palatnikov               0.52                  237   \n",
       "\n",
       "   f2_td_attempt  f2_td_succeed  ...  f2_age_when_fight  winning_method_CNC  \\\n",
       "0              0              0  ...                 34                   0   \n",
       "1              3              2  ...                 37                   0   \n",
       "2              0              0  ...                 32                   0   \n",
       "3              1              0  ...                 27                   0   \n",
       "4              1              1  ...                 31                   0   \n",
       "\n",
       "   winning_method_DQ  winning_method_KO/TKO  winning_method_M-DEC  \\\n",
       "0                  0                      0                     0   \n",
       "1                  0                      0                     0   \n",
       "2                  0                      1                     0   \n",
       "3                  0                      1                     0   \n",
       "4                  0                      1                     0   \n",
       "\n",
       "   winning_method_Other  winning_method_Overturned  winning_method_S-DEC  \\\n",
       "0                     0                          0                     0   \n",
       "1                     0                          0                     0   \n",
       "2                     0                          0                     0   \n",
       "3                     0                          0                     0   \n",
       "4                     0                          0                     0   \n",
       "\n",
       "   winning_method_SUB  winning_method_U-DEC  \n",
       "0                   1                     0  \n",
       "1                   1                     0  \n",
       "2                   0                     0  \n",
       "3                   0                     0  \n",
       "4                   0                     0  \n",
       "\n",
       "[5 rows x 60 columns]"
      ]
     },
     "execution_count": 8,
     "metadata": {},
     "output_type": "execute_result"
    }
   ],
   "source": [
    "df.head()"
   ]
  },
  {
   "cell_type": "code",
   "execution_count": 9,
   "metadata": {},
   "outputs": [
    {
     "data": {
      "text/html": [
       "<div>\n",
       "<style scoped>\n",
       "    .dataframe tbody tr th:only-of-type {\n",
       "        vertical-align: middle;\n",
       "    }\n",
       "\n",
       "    .dataframe tbody tr th {\n",
       "        vertical-align: top;\n",
       "    }\n",
       "\n",
       "    .dataframe thead th {\n",
       "        text-align: right;\n",
       "    }\n",
       "</style>\n",
       "<table border=\"1\" class=\"dataframe\">\n",
       "  <thead>\n",
       "    <tr style=\"text-align: right;\">\n",
       "      <th></th>\n",
       "      <th>f1</th>\n",
       "      <th>f2</th>\n",
       "      <th>weight_class</th>\n",
       "    </tr>\n",
       "  </thead>\n",
       "  <tbody>\n",
       "    <tr>\n",
       "      <th>0</th>\n",
       "      <td>596</td>\n",
       "      <td>104</td>\n",
       "      <td>0</td>\n",
       "    </tr>\n",
       "    <tr>\n",
       "      <th>1</th>\n",
       "      <td>717</td>\n",
       "      <td>328</td>\n",
       "      <td>9</td>\n",
       "    </tr>\n",
       "    <tr>\n",
       "      <th>2</th>\n",
       "      <td>890</td>\n",
       "      <td>476</td>\n",
       "      <td>5</td>\n",
       "    </tr>\n",
       "    <tr>\n",
       "      <th>3</th>\n",
       "      <td>1183</td>\n",
       "      <td>950</td>\n",
       "      <td>0</td>\n",
       "    </tr>\n",
       "    <tr>\n",
       "      <th>4</th>\n",
       "      <td>1004</td>\n",
       "      <td>1459</td>\n",
       "      <td>9</td>\n",
       "    </tr>\n",
       "  </tbody>\n",
       "</table>\n",
       "</div>"
      ],
      "text/plain": [
       "     f1    f2  weight_class\n",
       "0   596   104             0\n",
       "1   717   328             9\n",
       "2   890   476             5\n",
       "3  1183   950             0\n",
       "4  1004  1459             9"
      ]
     },
     "execution_count": 9,
     "metadata": {},
     "output_type": "execute_result"
    }
   ],
   "source": [
    "encode = df[['f1', 'f2', 'weight_class']].apply(encoder.fit_transform)\n",
    "encode.head()"
   ]
  },
  {
   "cell_type": "code",
   "execution_count": 10,
   "metadata": {},
   "outputs": [],
   "source": [
    "df[['f1', 'f2', 'weight_class']] = encode[['f1', 'f2', 'weight_class']]"
   ]
  },
  {
   "cell_type": "code",
   "execution_count": 11,
   "metadata": {},
   "outputs": [
    {
     "data": {
      "text/plain": [
       "<AxesSubplot:>"
      ]
     },
     "execution_count": 11,
     "metadata": {},
     "output_type": "execute_result"
    },
    {
     "data": {
      "image/png": "[encoded data removed]",
      "text/plain": [
       "<Figure size 720x1080 with 2 Axes>"
      ]
     },
     "metadata": {
      "needs_background": "light"
     },
     "output_type": "display_data"
    }
   ],
   "source": [
    "# look at correlation heatmap\n",
    "plt.figure(figsize=(10,15))\n",
    "sns.heatmap(df.corr()[['winner']].sort_values(by='winner', ascending=False), annot=True)\n"
   ]
  },
  {
   "cell_type": "code",
   "execution_count": 12,
   "metadata": {},
   "outputs": [],
   "source": [
    "# drop unecessary column for predicting\n",
    "df_shorten = df.drop(['round_fought', 'fight_year'], axis=1)"
   ]
  },
  {
   "cell_type": "code",
   "execution_count": 13,
   "metadata": {},
   "outputs": [
    {
     "name": "stderr",
     "output_type": "stream",
     "text": [
      "<ipython-input-13-5dd18de68e6e>:6: DeprecationWarning: `np.float` is a deprecated alias for the builtin `float`. To silence this warning, use `float` by itself. Doing this will not modify any behavior and is safe. If you specifically wanted the numpy scalar type, use `np.float64` here.\n",
      "Deprecated in NumPy 1.20; for more details and guidance: https://numpy.org/devdocs/release/1.20.0-notes.html#deprecations\n",
      "  df_num = data.select_dtypes(include=[np.float, np.int])\n",
      "<ipython-input-13-5dd18de68e6e>:6: DeprecationWarning: `np.int` is a deprecated alias for the builtin `int`. To silence this warning, use `int` by itself. Doing this will not modify any behavior and is safe. When replacing `np.int`, you may wish to use e.g. `np.int64` or `np.int32` to specify the precision. If you wish to review your current use, check the release note link for additional information.\n",
      "Deprecated in NumPy 1.20; for more details and guidance: https://numpy.org/devdocs/release/1.20.0-notes.html#deprecations\n",
      "  df_num = data.select_dtypes(include=[np.float, np.int])\n"
     ]
    }
   ],
   "source": [
    "# normalize data\n",
    "data = df_shorten.drop(['f1','f2','weight_class','round_format',\n",
    "                     'winner', 'stance_f1', 'stance_f2'], axis=1)\n",
    "\n",
    "std = StandardScaler()\n",
    "df_num = data.select_dtypes(include=[np.float, np.int])\n",
    "\n",
    "data[list(df_num.columns)] = std.fit_transform(data[list(df_num.columns)])"
   ]
  },
  {
   "cell_type": "code",
   "execution_count": 14,
   "metadata": {},
   "outputs": [
    {
     "data": {
      "text/html": [
       "<div>\n",
       "<style scoped>\n",
       "    .dataframe tbody tr th:only-of-type {\n",
       "        vertical-align: middle;\n",
       "    }\n",
       "\n",
       "    .dataframe tbody tr th {\n",
       "        vertical-align: top;\n",
       "    }\n",
       "\n",
       "    .dataframe thead th {\n",
       "        text-align: right;\n",
       "    }\n",
       "</style>\n",
       "<table border=\"1\" class=\"dataframe\">\n",
       "  <thead>\n",
       "    <tr style=\"text-align: right;\">\n",
       "      <th></th>\n",
       "      <th>f1</th>\n",
       "      <th>f1_sig_strike_per</th>\n",
       "      <th>f1_sig_strike_total</th>\n",
       "      <th>f1_td_attempt</th>\n",
       "      <th>f1_td_succeed</th>\n",
       "      <th>f2</th>\n",
       "      <th>f2_sig_strike_per</th>\n",
       "      <th>f2_sig_strike_total</th>\n",
       "      <th>f2_td_attempt</th>\n",
       "      <th>f2_td_succeed</th>\n",
       "      <th>...</th>\n",
       "      <th>f2_age_when_fight</th>\n",
       "      <th>winning_method_CNC</th>\n",
       "      <th>winning_method_DQ</th>\n",
       "      <th>winning_method_KO/TKO</th>\n",
       "      <th>winning_method_M-DEC</th>\n",
       "      <th>winning_method_Other</th>\n",
       "      <th>winning_method_Overturned</th>\n",
       "      <th>winning_method_S-DEC</th>\n",
       "      <th>winning_method_SUB</th>\n",
       "      <th>winning_method_U-DEC</th>\n",
       "    </tr>\n",
       "  </thead>\n",
       "  <tbody>\n",
       "    <tr>\n",
       "      <th>0</th>\n",
       "      <td>596</td>\n",
       "      <td>0.60</td>\n",
       "      <td>43</td>\n",
       "      <td>3</td>\n",
       "      <td>2</td>\n",
       "      <td>104</td>\n",
       "      <td>0.42</td>\n",
       "      <td>40</td>\n",
       "      <td>0</td>\n",
       "      <td>0</td>\n",
       "      <td>...</td>\n",
       "      <td>34</td>\n",
       "      <td>0</td>\n",
       "      <td>0</td>\n",
       "      <td>0</td>\n",
       "      <td>0</td>\n",
       "      <td>0</td>\n",
       "      <td>0</td>\n",
       "      <td>0</td>\n",
       "      <td>1</td>\n",
       "      <td>0</td>\n",
       "    </tr>\n",
       "    <tr>\n",
       "      <th>1</th>\n",
       "      <td>717</td>\n",
       "      <td>0.20</td>\n",
       "      <td>5</td>\n",
       "      <td>0</td>\n",
       "      <td>0</td>\n",
       "      <td>328</td>\n",
       "      <td>0.64</td>\n",
       "      <td>31</td>\n",
       "      <td>3</td>\n",
       "      <td>2</td>\n",
       "      <td>...</td>\n",
       "      <td>37</td>\n",
       "      <td>0</td>\n",
       "      <td>0</td>\n",
       "      <td>0</td>\n",
       "      <td>0</td>\n",
       "      <td>0</td>\n",
       "      <td>0</td>\n",
       "      <td>0</td>\n",
       "      <td>1</td>\n",
       "      <td>0</td>\n",
       "    </tr>\n",
       "    <tr>\n",
       "      <th>2</th>\n",
       "      <td>890</td>\n",
       "      <td>0.57</td>\n",
       "      <td>38</td>\n",
       "      <td>0</td>\n",
       "      <td>0</td>\n",
       "      <td>476</td>\n",
       "      <td>0.32</td>\n",
       "      <td>31</td>\n",
       "      <td>0</td>\n",
       "      <td>0</td>\n",
       "      <td>...</td>\n",
       "      <td>32</td>\n",
       "      <td>0</td>\n",
       "      <td>0</td>\n",
       "      <td>1</td>\n",
       "      <td>0</td>\n",
       "      <td>0</td>\n",
       "      <td>0</td>\n",
       "      <td>0</td>\n",
       "      <td>0</td>\n",
       "      <td>0</td>\n",
       "    </tr>\n",
       "    <tr>\n",
       "      <th>3</th>\n",
       "      <td>1183</td>\n",
       "      <td>0.45</td>\n",
       "      <td>105</td>\n",
       "      <td>7</td>\n",
       "      <td>0</td>\n",
       "      <td>950</td>\n",
       "      <td>0.24</td>\n",
       "      <td>137</td>\n",
       "      <td>1</td>\n",
       "      <td>0</td>\n",
       "      <td>...</td>\n",
       "      <td>27</td>\n",
       "      <td>0</td>\n",
       "      <td>0</td>\n",
       "      <td>1</td>\n",
       "      <td>0</td>\n",
       "      <td>0</td>\n",
       "      <td>0</td>\n",
       "      <td>0</td>\n",
       "      <td>0</td>\n",
       "      <td>0</td>\n",
       "    </tr>\n",
       "    <tr>\n",
       "      <th>4</th>\n",
       "      <td>1004</td>\n",
       "      <td>0.48</td>\n",
       "      <td>206</td>\n",
       "      <td>9</td>\n",
       "      <td>1</td>\n",
       "      <td>1459</td>\n",
       "      <td>0.52</td>\n",
       "      <td>237</td>\n",
       "      <td>1</td>\n",
       "      <td>1</td>\n",
       "      <td>...</td>\n",
       "      <td>31</td>\n",
       "      <td>0</td>\n",
       "      <td>0</td>\n",
       "      <td>1</td>\n",
       "      <td>0</td>\n",
       "      <td>0</td>\n",
       "      <td>0</td>\n",
       "      <td>0</td>\n",
       "      <td>0</td>\n",
       "      <td>0</td>\n",
       "    </tr>\n",
       "  </tbody>\n",
       "</table>\n",
       "<p>5 rows × 58 columns</p>\n",
       "</div>"
      ],
      "text/plain": [
       "     f1  f1_sig_strike_per  f1_sig_strike_total  f1_td_attempt  f1_td_succeed  \\\n",
       "0   596               0.60                   43              3              2   \n",
       "1   717               0.20                    5              0              0   \n",
       "2   890               0.57                   38              0              0   \n",
       "3  1183               0.45                  105              7              0   \n",
       "4  1004               0.48                  206              9              1   \n",
       "\n",
       "     f2  f2_sig_strike_per  f2_sig_strike_total  f2_td_attempt  f2_td_succeed  \\\n",
       "0   104               0.42                   40              0              0   \n",
       "1   328               0.64                   31              3              2   \n",
       "2   476               0.32                   31              0              0   \n",
       "3   950               0.24                  137              1              0   \n",
       "4  1459               0.52                  237              1              1   \n",
       "\n",
       "   ...  f2_age_when_fight  winning_method_CNC  winning_method_DQ  \\\n",
       "0  ...                 34                   0                  0   \n",
       "1  ...                 37                   0                  0   \n",
       "2  ...                 32                   0                  0   \n",
       "3  ...                 27                   0                  0   \n",
       "4  ...                 31                   0                  0   \n",
       "\n",
       "   winning_method_KO/TKO  winning_method_M-DEC  winning_method_Other  \\\n",
       "0                      0                     0                     0   \n",
       "1                      0                     0                     0   \n",
       "2                      1                     0                     0   \n",
       "3                      1                     0                     0   \n",
       "4                      1                     0                     0   \n",
       "\n",
       "   winning_method_Overturned  winning_method_S-DEC  winning_method_SUB  \\\n",
       "0                          0                     0                   1   \n",
       "1                          0                     0                   1   \n",
       "2                          0                     0                   0   \n",
       "3                          0                     0                   0   \n",
       "4                          0                     0                   0   \n",
       "\n",
       "   winning_method_U-DEC  \n",
       "0                     0  \n",
       "1                     0  \n",
       "2                     0  \n",
       "3                     0  \n",
       "4                     0  \n",
       "\n",
       "[5 rows x 58 columns]"
      ]
     },
     "execution_count": 14,
     "metadata": {},
     "output_type": "execute_result"
    }
   ],
   "source": [
    "df_shorten.head()"
   ]
  },
  {
   "cell_type": "markdown",
   "metadata": {},
   "source": [
    "## Modeling XGBoost\n",
    "\n",
    "### all default hyperparameter of XGBosst"
   ]
  },
  {
   "cell_type": "code",
   "execution_count": 14,
   "metadata": {},
   "outputs": [],
   "source": [
    "model = XGBClassifier()\n",
    "X = df_shorten.drop(['winner'], axis=1)\n",
    "y = df_shorten['winner']\n",
    "\n",
    "X_train, X_test, y_train, y_test = train_test_split(X, y, test_size=0.25, random_state=42)"
   ]
  },
  {
   "cell_type": "code",
   "execution_count": 16,
   "metadata": {},
   "outputs": [
    {
     "name": "stderr",
     "output_type": "stream",
     "text": [
      "D:\\conda\\envs\\analytic\\lib\\site-packages\\xgboost\\sklearn.py:1146: UserWarning: The use of label encoder in XGBClassifier is deprecated and will be removed in a future release. To remove this warning, do the following: 1) Pass option use_label_encoder=False when constructing XGBClassifier object; and 2) Encode your labels (y) as integers starting with 0, i.e. 0, 1, 2, ..., [num_class - 1].\n",
      "  warnings.warn(label_encoder_deprecation_msg, UserWarning)\n"
     ]
    },
    {
     "name": "stdout",
     "output_type": "stream",
     "text": [
      "[14:26:08] WARNING: ..\\src\\learner.cc:1095: Starting in XGBoost 1.3.0, the default evaluation metric used with the objective 'binary:logistic' was changed from 'error' to 'logloss'. Explicitly set eval_metric if you'd like to restore the old behavior.\n"
     ]
    },
    {
     "data": {
      "text/plain": [
       "XGBClassifier(base_score=0.5, booster='gbtree', colsample_bylevel=1,\n",
       "              colsample_bynode=1, colsample_bytree=1, gamma=0, gpu_id=-1,\n",
       "              importance_type='gain', interaction_constraints='',\n",
       "              learning_rate=0.300000012, max_delta_step=0, max_depth=6,\n",
       "              min_child_weight=1, missing=nan, monotone_constraints='()',\n",
       "              n_estimators=100, n_jobs=4, num_parallel_tree=1, random_state=0,\n",
       "              reg_alpha=0, reg_lambda=1, scale_pos_weight=1, subsample=1,\n",
       "              tree_method='exact', validate_parameters=1, verbosity=None)"
      ]
     },
     "execution_count": 16,
     "metadata": {},
     "output_type": "execute_result"
    }
   ],
   "source": [
    "model.fit(X_train, y_train)"
   ]
  },
  {
   "cell_type": "code",
   "execution_count": 17,
   "metadata": {},
   "outputs": [],
   "source": [
    "pred = model.predict(X_test)"
   ]
  },
  {
   "cell_type": "code",
   "execution_count": 18,
   "metadata": {},
   "outputs": [
    {
     "name": "stdout",
     "output_type": "stream",
     "text": [
      "Score: 74.18\n"
     ]
    }
   ],
   "source": [
    "Score = model.score(X_test,y_test)\n",
    "print(\"Score: {:.2f}\".format(Score * 100.0))"
   ]
  },
  {
   "cell_type": "markdown",
   "metadata": {},
   "source": [
    "## Hyperparameter tuning"
   ]
  },
  {
   "cell_type": "code",
   "execution_count": 15,
   "metadata": {},
   "outputs": [],
   "source": [
    "from sklearn.model_selection import GridSearchCV, RandomizedSearchCV \n",
    "from sklearn.model_selection import cross_val_score, StratifiedKFold\n",
    "import numpy as np\n",
    "\n",
    "import warnings\n",
    "warnings.filterwarnings('ignore')"
   ]
  },
  {
   "cell_type": "code",
   "execution_count": 16,
   "metadata": {},
   "outputs": [],
   "source": [
    "xgb = XGBClassifier(random_state=2)"
   ]
  },
  {
   "cell_type": "code",
   "execution_count": 18,
   "metadata": {},
   "outputs": [],
   "source": [
    "# make sure the data is stratified properly if needed\n",
    "# we already ensure this in preprocessing data step. But as a good practice\n",
    "kfold = StratifiedKFold(n_splits=5, shuffle=True, random_state=2)"
   ]
  },
  {
   "cell_type": "code",
   "execution_count": 19,
   "metadata": {},
   "outputs": [
    {
     "name": "stdout",
     "output_type": "stream",
     "text": [
      "[14:26:58] WARNING: ..\\src\\learner.cc:1095: Starting in XGBoost 1.3.0, the default evaluation metric used with the objective 'binary:logistic' was changed from 'error' to 'logloss'. Explicitly set eval_metric if you'd like to restore the old behavior.\n",
      "[14:26:59] WARNING: ..\\src\\learner.cc:1095: Starting in XGBoost 1.3.0, the default evaluation metric used with the objective 'binary:logistic' was changed from 'error' to 'logloss'. Explicitly set eval_metric if you'd like to restore the old behavior.\n",
      "[14:27:00] WARNING: ..\\src\\learner.cc:1095: Starting in XGBoost 1.3.0, the default evaluation metric used with the objective 'binary:logistic' was changed from 'error' to 'logloss'. Explicitly set eval_metric if you'd like to restore the old behavior.\n",
      "[14:27:01] WARNING: ..\\src\\learner.cc:1095: Starting in XGBoost 1.3.0, the default evaluation metric used with the objective 'binary:logistic' was changed from 'error' to 'logloss'. Explicitly set eval_metric if you'd like to restore the old behavior.\n",
      "[14:27:02] WARNING: ..\\src\\learner.cc:1095: Starting in XGBoost 1.3.0, the default evaluation metric used with the objective 'binary:logistic' was changed from 'error' to 'logloss'. Explicitly set eval_metric if you'd like to restore the old behavior.\n",
      "Accuracy: [0.72 0.71 0.71 0.71 0.72]\n",
      "Accuracy mean: 0.71\n"
     ]
    }
   ],
   "source": [
    "# score the base line model again, this time using cross_val_score\n",
    "scores = cross_val_score(xgb, X, y, cv=kfold)\n",
    "print('Accuracy:', np.round(scores, 2))\n",
    "print('Accuracy mean: {:.2f}'.format(scores.mean()))"
   ]
  },
  {
   "cell_type": "markdown",
   "metadata": {},
   "source": [
    "with cross_val_score, we recalculate the base model and we have a starting point of 71%. We will look into improve the model via different hyperparameter tuning method. We will first create a function to easily conduct these search"
   ]
  },
  {
   "cell_type": "code",
   "execution_count": 20,
   "metadata": {},
   "outputs": [],
   "source": [
    "# create a function taht allow us to do both grid_search and RandomizedSearchCV\n",
    "def grid_search(params, random=False):\n",
    "    xgb = XGBClassifier(random_state=2)\n",
    "    if random:\n",
    "        grid= RandomizedSearchCV(xgb, params, cv=kfold, n_iter=20, n_jobs=-1)\n",
    "    else:\n",
    "        grid = GridSearchCV(xgb, params, cv=kfold, n_jobs=-1)\n",
    "    \n",
    "    grid.fit(X,y)\n",
    "        \n",
    "    best_params = grid.best_params_\n",
    "    print(\"Best params: \", best_params)\n",
    "    \n",
    "    best_score = grid.best_score_\n",
    "    print('Training score: {:.3f}'.format(best_score))"
   ]
  },
  {
   "cell_type": "markdown",
   "metadata": {},
   "source": [
    "### First test with randomized Search CV"
   ]
  },
  {
   "cell_type": "code",
   "execution_count": 26,
   "metadata": {},
   "outputs": [
    {
     "name": "stderr",
     "output_type": "stream",
     "text": [
      "/usr/local/lib/python3.6/dist-packages/xgboost/sklearn.py:1146: UserWarning: The use of label encoder in XGBClassifier is deprecated and will be removed in a future release. To remove this warning, do the following: 1) Pass option use_label_encoder=False when constructing XGBClassifier object; and 2) Encode your labels (y) as integers starting with 0, i.e. 0, 1, 2, ..., [num_class - 1].\n",
      "  warnings.warn(label_encoder_deprecation_msg, UserWarning)\n"
     ]
    },
    {
     "name": "stdout",
     "output_type": "stream",
     "text": [
      "[17:46:38] WARNING: ../src/learner.cc:1095: Starting in XGBoost 1.3.0, the default evaluation metric used with the objective 'binary:logistic' was changed from 'error' to 'logloss'. Explicitly set eval_metric if you'd like to restore the old behavior.\n",
      "Best params:  {'subsample': 0.9, 'n_estimators': 75, 'min_child_weight': 5, 'max_depth': None, 'learning_rate': 0.1}\n",
      "Training score: 0.723\n"
     ]
    }
   ],
   "source": [
    "grid_search(params={'subsample':[0.5, 0.6, 0.7, 0.8, 0.9, 1], \n",
    "                    'min_child_weight':[1, 2, 3, 4, 5], \n",
    "                    'learning_rate':[0.1, 0.2, 0.3, 0.4, 0.5], \n",
    "                    'max_depth':[1, 2, 3, 4, 5, None], \n",
    "                    'n_estimators':[2, 25, 50, 75, 100]},\n",
    "                    random=True)"
   ]
  },
  {
   "cell_type": "code",
   "execution_count": 28,
   "metadata": {},
   "outputs": [
    {
     "name": "stdout",
     "output_type": "stream",
     "text": [
      "[12:20:36] WARNING: ../src/learner.cc:573: \n",
      "Parameters: { \"mid_child_weight\" } might not be used.\n",
      "\n",
      "  This may not be accurate due to some parameters are only used in language bindings but\n",
      "  passed down to XGBoost core.  Or some parameters are not used but slip through this\n",
      "  verification. Please open an issue if you find above cases.\n",
      "\n",
      "\n",
      "[12:20:36] WARNING: ../src/learner.cc:1095: Starting in XGBoost 1.3.0, the default evaluation metric used with the objective 'binary:logistic' was changed from 'error' to 'logloss'. Explicitly set eval_metric if you'd like to restore the old behavior.\n",
      "[12:20:37] WARNING: ../src/learner.cc:573: \n",
      "Parameters: { \"mid_child_weight\" } might not be used.\n",
      "\n",
      "  This may not be accurate due to some parameters are only used in language bindings but\n",
      "  passed down to XGBoost core.  Or some parameters are not used but slip through this\n",
      "  verification. Please open an issue if you find above cases.\n",
      "\n",
      "\n",
      "[12:20:37] WARNING: ../src/learner.cc:1095: Starting in XGBoost 1.3.0, the default evaluation metric used with the objective 'binary:logistic' was changed from 'error' to 'logloss'. Explicitly set eval_metric if you'd like to restore the old behavior.\n",
      "[12:20:37] WARNING: ../src/learner.cc:573: \n",
      "Parameters: { \"mid_child_weight\" } might not be used.\n",
      "\n",
      "  This may not be accurate due to some parameters are only used in language bindings but\n",
      "  passed down to XGBoost core.  Or some parameters are not used but slip through this\n",
      "  verification. Please open an issue if you find above cases.\n",
      "\n",
      "\n",
      "[12:20:37] WARNING: ../src/learner.cc:1095: Starting in XGBoost 1.3.0, the default evaluation metric used with the objective 'binary:logistic' was changed from 'error' to 'logloss'. Explicitly set eval_metric if you'd like to restore the old behavior.\n",
      "[12:20:38] WARNING: ../src/learner.cc:573: \n",
      "Parameters: { \"mid_child_weight\" } might not be used.\n",
      "\n",
      "  This may not be accurate due to some parameters are only used in language bindings but\n",
      "  passed down to XGBoost core.  Or some parameters are not used but slip through this\n",
      "  verification. Please open an issue if you find above cases.\n",
      "\n",
      "\n",
      "[12:20:38] WARNING: ../src/learner.cc:1095: Starting in XGBoost 1.3.0, the default evaluation metric used with the objective 'binary:logistic' was changed from 'error' to 'logloss'. Explicitly set eval_metric if you'd like to restore the old behavior.\n",
      "[12:20:38] WARNING: ../src/learner.cc:573: \n",
      "Parameters: { \"mid_child_weight\" } might not be used.\n",
      "\n",
      "  This may not be accurate due to some parameters are only used in language bindings but\n",
      "  passed down to XGBoost core.  Or some parameters are not used but slip through this\n",
      "  verification. Please open an issue if you find above cases.\n",
      "\n",
      "\n",
      "[12:20:38] WARNING: ../src/learner.cc:1095: Starting in XGBoost 1.3.0, the default evaluation metric used with the objective 'binary:logistic' was changed from 'error' to 'logloss'. Explicitly set eval_metric if you'd like to restore the old behavior.\n",
      "Accuracy: [0.71 0.72 0.71 0.72 0.74]\n",
      "Accuracy mean: 0.717\n"
     ]
    }
   ],
   "source": [
    "xgb = XGBClassifier(random_state=2, subsample=0.9, n_estimators=75, \n",
    "                    mid_child_weight=5, max_depth=None, learning_rate=0.1)\n",
    "\n",
    "\n",
    "scores = cross_val_score(xgb, X, y, cv=kfold)\n",
    "print('Accuracy:', np.round(scores, 2))\n",
    "print('Accuracy mean: {:.3f}'.format(scores.mean()))"
   ]
  },
  {
   "cell_type": "markdown",
   "metadata": {},
   "source": [
    "This is actually even lower then the default parameters. Let see whether we can do better with a more systematic search of hyperparams\n",
    "\n",
    "### systematic approach where we add one parameter at a time"
   ]
  },
  {
   "cell_type": "code",
   "execution_count": 26,
   "metadata": {
    "scrolled": true
   },
   "outputs": [
    {
     "name": "stderr",
     "output_type": "stream",
     "text": [
      "/usr/local/lib/python3.6/dist-packages/xgboost/sklearn.py:1146: UserWarning: The use of label encoder in XGBClassifier is deprecated and will be removed in a future release. To remove this warning, do the following: 1) Pass option use_label_encoder=False when constructing XGBClassifier object; and 2) Encode your labels (y) as integers starting with 0, i.e. 0, 1, 2, ..., [num_class - 1].\n",
      "  warnings.warn(label_encoder_deprecation_msg, UserWarning)\n"
     ]
    },
    {
     "name": "stdout",
     "output_type": "stream",
     "text": [
      "[08:38:06] WARNING: ../src/learner.cc:1095: Starting in XGBoost 1.3.0, the default evaluation metric used with the objective 'binary:logistic' was changed from 'error' to 'logloss'. Explicitly set eval_metric if you'd like to restore the old behavior.\n",
      "Best params:  {'n_estimators': 1600}\n",
      "Training score: 0.733\n"
     ]
    }
   ],
   "source": [
    "# check for n_estimators\n",
    "grid_search(params={'n_estimators':[800, 1000, 1200, 1400, 1600]})"
   ]
  },
  {
   "cell_type": "markdown",
   "metadata": {},
   "source": [
    "note that we putted the limit at 1600, which mean the model will probably benefit from even a larger number of estimators"
   ]
  },
  {
   "cell_type": "code",
   "execution_count": 27,
   "metadata": {},
   "outputs": [
    {
     "name": "stdout",
     "output_type": "stream",
     "text": [
      "[12:20:27] WARNING: ../src/learner.cc:1095: Starting in XGBoost 1.3.0, the default evaluation metric used with the objective 'binary:logistic' was changed from 'error' to 'logloss'. Explicitly set eval_metric if you'd like to restore the old behavior.\n",
      "Best params:  {'max_depth': 8, 'n_estimators': 1600}\n",
      "Training score: 0.736\n"
     ]
    }
   ],
   "source": [
    "# search for max depth with number of estimators at 1600\n",
    "grid_search(params={'max_depth':[8, 10, 12, 14, 16, 18],\n",
    "                   'n_estimators': [1600],\n",
    "                   })"
   ]
  },
  {
   "cell_type": "code",
   "execution_count": 22,
   "metadata": {},
   "outputs": [
    {
     "name": "stdout",
     "output_type": "stream",
     "text": [
      "[14:34:03] WARNING: ..\\src\\learner.cc:1095: Starting in XGBoost 1.3.0, the default evaluation metric used with the objective 'binary:logistic' was changed from 'error' to 'logloss'. Explicitly set eval_metric if you'd like to restore the old behavior.\n",
      "Best params:  {'learning_rate': 0.3, 'max_depth': 8, 'n_estimators': 1600}\n",
      "Training score: 0.735\n"
     ]
    }
   ],
   "source": [
    "# systematically add the result of the previous one in\n",
    "grid_search(params={'learning_rate':[0.05, 0.1, 0.2, 0.3, 0.4, 0.5],\n",
    "                    'max_depth':[8],\n",
    "                   'n_estimators': [1600]})"
   ]
  },
  {
   "cell_type": "markdown",
   "metadata": {},
   "source": [
    "learning rate chosen is 0.3, which is the default learning rate set by XGBoost"
   ]
  },
  {
   "cell_type": "code",
   "execution_count": 23,
   "metadata": {},
   "outputs": [
    {
     "name": "stdout",
     "output_type": "stream",
     "text": [
      "[14:50:25] WARNING: ..\\src\\learner.cc:1095: Starting in XGBoost 1.3.0, the default evaluation metric used with the objective 'binary:logistic' was changed from 'error' to 'logloss'. Explicitly set eval_metric if you'd like to restore the old behavior.\n",
      "Best params:  {'gamma': 0, 'max_depth': 8, 'n_estimators': 1600}\n",
      "Training score: 0.735\n"
     ]
    }
   ],
   "source": [
    "grid_search(params={'gamma':[0, 0.1, 0.5, 1, 2, 5],\n",
    "                   'max_depth':[8],\n",
    "                   'n_estimators': [1600],\n",
    "                   })"
   ]
  },
  {
   "cell_type": "markdown",
   "metadata": {},
   "source": [
    "again, the default value seem to be the best already"
   ]
  },
  {
   "cell_type": "code",
   "execution_count": 24,
   "metadata": {},
   "outputs": [
    {
     "name": "stdout",
     "output_type": "stream",
     "text": [
      "[15:01:29] WARNING: ..\\src\\learner.cc:1095: Starting in XGBoost 1.3.0, the default evaluation metric used with the objective 'binary:logistic' was changed from 'error' to 'logloss'. Explicitly set eval_metric if you'd like to restore the old behavior.\n",
      "Best params:  {'colsample_bytree': 0.8, 'max_depth': 8, 'n_estimators': 1600}\n",
      "Training score: 0.738\n"
     ]
    }
   ],
   "source": [
    "grid_search(params={'colsample_bytree':[0.5, 0.6, 0.7, 0.8, 0.9, 1], \n",
    "                   'max_depth':[8],\n",
    "                   'n_estimators': [1600]})"
   ]
  },
  {
   "cell_type": "code",
   "execution_count": 26,
   "metadata": {},
   "outputs": [
    {
     "name": "stdout",
     "output_type": "stream",
     "text": [
      "[15:09:08] WARNING: ..\\src\\learner.cc:1095: Starting in XGBoost 1.3.0, the default evaluation metric used with the objective 'binary:logistic' was changed from 'error' to 'logloss'. Explicitly set eval_metric if you'd like to restore the old behavior.\n",
      "Best params:  {'colsample_bytree': 0.8, 'max_depth': 8, 'min_child_weight': 2, 'n_estimators': 1600}\n",
      "Training score: 0.741\n"
     ]
    }
   ],
   "source": [
    "grid_search(params={'colsample_bytree':[0.8], \n",
    "                   'max_depth':[8],\n",
    "                   'n_estimators': [1600],\n",
    "                   'min_child_weight':[1, 2, 3, 4, 5]})"
   ]
  },
  {
   "cell_type": "code",
   "execution_count": 27,
   "metadata": {},
   "outputs": [
    {
     "name": "stdout",
     "output_type": "stream",
     "text": [
      "[15:17:19] WARNING: ..\\src\\learner.cc:1095: Starting in XGBoost 1.3.0, the default evaluation metric used with the objective 'binary:logistic' was changed from 'error' to 'logloss'. Explicitly set eval_metric if you'd like to restore the old behavior.\n",
      "Best params:  {'colsample_bytree': 0.8, 'max_depth': 8, 'min_child_weight': 2, 'n_estimators': 1600, 'subsample': 1}\n",
      "Training score: 0.741\n"
     ]
    }
   ],
   "source": [
    "grid_search(params={'colsample_bytree':[0.8], \n",
    "                   'max_depth':[8],\n",
    "                   'n_estimators': [1600],\n",
    "                   'min_child_weight':[2],\n",
    "                    'subsample':[0.5, 0.6, 0.7, 0.8, 0.9, 1]})"
   ]
  },
  {
   "cell_type": "markdown",
   "metadata": {},
   "source": [
    "again, default value for subsample was chosen by grid_search"
   ]
  },
  {
   "cell_type": "code",
   "execution_count": 28,
   "metadata": {},
   "outputs": [
    {
     "name": "stdout",
     "output_type": "stream",
     "text": [
      "[15:18:20] WARNING: ..\\src\\learner.cc:573: \n",
      "Parameters: { \"mid_child_weight\" } might not be used.\n",
      "\n",
      "  This may not be accurate due to some parameters are only used in language bindings but\n",
      "  passed down to XGBoost core.  Or some parameters are not used but slip through this\n",
      "  verification. Please open an issue if you find above cases.\n",
      "\n",
      "\n",
      "[15:18:20] WARNING: ..\\src\\learner.cc:1095: Starting in XGBoost 1.3.0, the default evaluation metric used with the objective 'binary:logistic' was changed from 'error' to 'logloss'. Explicitly set eval_metric if you'd like to restore the old behavior.\n",
      "[15:18:28] WARNING: ..\\src\\learner.cc:573: \n",
      "Parameters: { \"mid_child_weight\" } might not be used.\n",
      "\n",
      "  This may not be accurate due to some parameters are only used in language bindings but\n",
      "  passed down to XGBoost core.  Or some parameters are not used but slip through this\n",
      "  verification. Please open an issue if you find above cases.\n",
      "\n",
      "\n",
      "[15:18:29] WARNING: ..\\src\\learner.cc:1095: Starting in XGBoost 1.3.0, the default evaluation metric used with the objective 'binary:logistic' was changed from 'error' to 'logloss'. Explicitly set eval_metric if you'd like to restore the old behavior.\n",
      "[15:18:37] WARNING: ..\\src\\learner.cc:573: \n",
      "Parameters: { \"mid_child_weight\" } might not be used.\n",
      "\n",
      "  This may not be accurate due to some parameters are only used in language bindings but\n",
      "  passed down to XGBoost core.  Or some parameters are not used but slip through this\n",
      "  verification. Please open an issue if you find above cases.\n",
      "\n",
      "\n",
      "[15:18:37] WARNING: ..\\src\\learner.cc:1095: Starting in XGBoost 1.3.0, the default evaluation metric used with the objective 'binary:logistic' was changed from 'error' to 'logloss'. Explicitly set eval_metric if you'd like to restore the old behavior.\n",
      "[15:18:47] WARNING: ..\\src\\learner.cc:573: \n",
      "Parameters: { \"mid_child_weight\" } might not be used.\n",
      "\n",
      "  This may not be accurate due to some parameters are only used in language bindings but\n",
      "  passed down to XGBoost core.  Or some parameters are not used but slip through this\n",
      "  verification. Please open an issue if you find above cases.\n",
      "\n",
      "\n",
      "[15:18:47] WARNING: ..\\src\\learner.cc:1095: Starting in XGBoost 1.3.0, the default evaluation metric used with the objective 'binary:logistic' was changed from 'error' to 'logloss'. Explicitly set eval_metric if you'd like to restore the old behavior.\n",
      "[15:18:57] WARNING: ..\\src\\learner.cc:573: \n",
      "Parameters: { \"mid_child_weight\" } might not be used.\n",
      "\n",
      "  This may not be accurate due to some parameters are only used in language bindings but\n",
      "  passed down to XGBoost core.  Or some parameters are not used but slip through this\n",
      "  verification. Please open an issue if you find above cases.\n",
      "\n",
      "\n",
      "[15:18:57] WARNING: ..\\src\\learner.cc:1095: Starting in XGBoost 1.3.0, the default evaluation metric used with the objective 'binary:logistic' was changed from 'error' to 'logloss'. Explicitly set eval_metric if you'd like to restore the old behavior.\n",
      "Accuracy: [0.74 0.74 0.73 0.74 0.74]\n",
      "Accuracy mean: 0.738\n"
     ]
    }
   ],
   "source": [
    "xgb = XGBClassifier(random_state=2, n_estimators=1600, \n",
    "                    mid_child_weight=2, max_depth=8, colsample_bytree=0.8)\n",
    "\n",
    "\n",
    "scores = cross_val_score(xgb, X, y, cv=kfold)\n",
    "print('Accuracy:', np.round(scores, 2))\n",
    "print('Accuracy mean: {:.3f}'.format(scores.mean()))"
   ]
  },
  {
   "cell_type": "markdown",
   "metadata": {},
   "source": [
    "we only obtain an increase of 2%"
   ]
  },
  {
   "cell_type": "code",
   "execution_count": null,
   "metadata": {},
   "outputs": [],
   "source": []
  }
 ],
 "metadata": {
  "kernelspec": {
   "display_name": "analytic",
   "language": "python",
   "name": "analytic"
  },
  "language_info": {
   "codemirror_mode": {
    "name": "ipython",
    "version": 3
   },
   "file_extension": ".py",
   "mimetype": "text/x-python",
   "name": "python",
   "nbconvert_exporter": "python",
   "pygments_lexer": "ipython3",
   "version": "3.9.6"
  }
 },
 "nbformat": 4,
 "nbformat_minor": 2
}
